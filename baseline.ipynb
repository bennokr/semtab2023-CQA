{
 "cells": [
  {
   "cell_type": "code",
   "execution_count": 1,
   "id": "d904a916-abaf-4d2a-872c-033e319f988b",
   "metadata": {},
   "outputs": [
    {
     "name": "stdout",
     "output_type": "stream",
     "text": [
      "0 {'Q103916'}\n",
      "2 {'Q162492', 'Q23844', 'Q166272', 'Q129817', 'Q178552', 'Q296500', 'Q171905', 'Q38111', 'Q23365', 'Q174843', 'Q134895', 'Q170587', 'Q180560', 'Q310318', 'Q40096', 'Q44221', 'Q313043', 'Q211322', 'Q171363', 'Q42869', 'Q182763', 'Q193815', 'Q173158', 'Q272019', 'Q104791', 'Q37175', 'Q123351'}\n"
     ]
    },
    {
     "name": "stderr",
     "output_type": "stream",
     "text": [
      "\n",
      "KeyboardInterrupt\n",
      "\n"
     ]
    }
   ],
   "source": [
    "import csv\n",
    "from wikimapper import WikiMapper\n",
    "import rdflib\n",
    "from collections import Counter\n",
    "\n",
    "mapper = WikiMapper(\"index_simplewiki-20230501.db\")\n",
    "\n",
    "def best_types(qs):\n",
    "    values = ['wd:' + q for q in qs]\n",
    "    qres = rdflib.Graph().query(\n",
    "        \"\"\"\n",
    "        PREFIX wd: <http://www.wikidata.org/entity/>\n",
    "        PREFIX wdt: <http://www.wikidata.org/prop/direct/>\n",
    "        SELECT ?type ?count\n",
    "        WHERE {\n",
    "          SERVICE <https://query.wikidata.org/sparql> {\n",
    "            SELECT ?type (COUNT(?type) as ?count) {\n",
    "              VALUES ?s { %s }\n",
    "              ?s wdt:P31 ?type .\n",
    "            }\n",
    "            GROUP BY (?type)\n",
    "          }\n",
    "        } \n",
    "        \"\"\" % ' '.join(values)\n",
    "    )\n",
    "    return Counter({t:c.toPython() for t,c in qres})\n",
    "\n",
    "rows = csv.reader(open('tables/table_1.csv').readlines()[1:])\n",
    "cols = zip(*rows)\n",
    "col_types = {}\n",
    "for ci, col in enumerate(cols):\n",
    "    wiki_ids = set()\n",
    "    for val in set(col):\n",
    "        i = mapper.title_to_id(val.replace(' ','_'))\n",
    "        if i:\n",
    "            wiki_ids.add(i)\n",
    "    if wiki_ids:\n",
    "        print(ci, wiki_ids)\n",
    "        col_types[ci] = best_types(wiki_ids)\n",
    "\n",
    "col_types"
   ]
  },
  {
   "cell_type": "code",
   "execution_count": null,
   "id": "f13e147f-40cb-4243-b654-315a476545a4",
   "metadata": {},
   "outputs": [],
   "source": [
    "\n",
    "\"\"\"\n",
    "SELECT ?p ?q ?cs ?co ?cq WHERE {\n",
    "  VALUES ?cs { wd:Q5 wd:Q618779 wd:Q386724 }\n",
    "  VALUES ?co { wd:Q5 wd:Q618779 wd:Q386724 }\n",
    "  VALUES ?cq { wd:Q5 wd:Q618779 wd:Q386724 }\n",
    "  FILTER ((?cs != ?co) && (?cs != ?cq) && (?cq != ?co))\n",
    "  ?p p:P2302 [ # property constraint\n",
    "    ps:P2302 wd:Q21503250; # subject type constraint\n",
    "    pq:P2309 wd:Q21503252; # relation: instance of\n",
    "    pq:P2308 ?cs # subject class\n",
    "  ], [\n",
    "    ps:P2302 wd:Q21510865; # value type constraint\n",
    "    pq:P2309 wd:Q21503252; # relation: instance of\n",
    "    pq:P2308 ?co # value class\n",
    "  ], [ \n",
    "    ps:P2302 wd:Q21510851; # allowed qualifiers\n",
    "    pq:P2306 ?q # property\n",
    "  ].\n",
    "  ?q p:P2302 [ # property constraint\n",
    "    ps:P2302 wd:Q21510865; # value type constraint\n",
    "    pq:P2309 wd:Q21503252; # relation: instance of\n",
    "    pq:P2308 ?cq # qualifier class\n",
    "  ].\n",
    "}\n",
    "\"\"\""
   ]
  }
 ],
 "metadata": {
  "kernelspec": {
   "display_name": "Python 3 (ipykernel)",
   "language": "python",
   "name": "python3"
  },
  "language_info": {
   "codemirror_mode": {
    "name": "ipython",
    "version": 3
   },
   "file_extension": ".py",
   "mimetype": "text/x-python",
   "name": "python",
   "nbconvert_exporter": "python",
   "pygments_lexer": "ipython3",
   "version": "3.9.0"
  }
 },
 "nbformat": 4,
 "nbformat_minor": 5
}
